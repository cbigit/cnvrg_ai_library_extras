{
 "cells": [
  {
   "cell_type": "code",
   "execution_count": 1,
   "metadata": {},
   "outputs": [],
   "source": [
    "# =============================================================\n",
    "# Copyright © 2020 Intel Corporation\n",
    "# \n",
    "# SPDX-License-Identifier: MIT\n",
    "# ============================================================="
   ]
  },
  {
   "cell_type": "markdown",
   "metadata": {},
   "source": [
    "# Modin Getting Started Example for Distributed Pandas"
   ]
  },
  {
   "cell_type": "markdown",
   "metadata": {},
   "source": [
    "## Importing and Organizing Data"
   ]
  },
  {
   "cell_type": "markdown",
   "metadata": {},
   "source": [
    "In this example we will be generating a **synthetic dataset** and **demonstrating stock Pandas operations running with Modin**.\n",
    "\n",
    "Let's start by **importing** all the necessary packages and modules"
   ]
  },
  {
   "cell_type": "code",
   "execution_count": 2,
   "metadata": {},
   "outputs": [],
   "source": [
    "import numpy as np\n",
    "import matplotlib.pyplot as plt\n",
    "import time"
   ]
  },
  {
   "cell_type": "markdown",
   "metadata": {},
   "source": [
    "## How to Use Modin"
   ]
  },
  {
   "cell_type": "markdown",
   "metadata": {},
   "source": [
    "We will also be importing **stock Pandas as pd** and **Modin as mpd to show differentiation**. You can see importing Modin is simple and **does not require any additional steps.**"
   ]
  },
  {
   "cell_type": "code",
   "execution_count": 3,
   "metadata": {},
   "outputs": [],
   "source": [
    "import pandas"
   ]
  },
  {
   "cell_type": "code",
   "execution_count": 4,
   "metadata": {},
   "outputs": [],
   "source": [
    "import os\n",
    "os.environ[\"MODIN_ENGINE\"] = \"ray\" "
   ]
  },
  {
   "cell_type": "code",
   "execution_count": 5,
   "metadata": {},
   "outputs": [],
   "source": [
    "import modin.pandas as pd"
   ]
  },
  {
   "cell_type": "markdown",
   "metadata": {},
   "source": [
    "We will now **generate a synthetic dataset** using NumPy to use with Modin and save it to a CSV."
   ]
  },
  {
   "cell_type": "code",
   "execution_count": 6,
   "metadata": {},
   "outputs": [],
   "source": [
    "#array=np.random.randint(low=100,high=10000,size=(2**18,2**8))\n",
    "array=np.random.randint(low=100,high=10000,size=(2**18,2**8))\n",
    "\n",
    "#array\n",
    "np.savetxt(\"foo.csv\", array, delimiter=\",\") #how to generate array"
   ]
  },
  {
   "cell_type": "markdown",
   "metadata": {},
   "source": [
    "Now we will convert the ndarray into a Pandas dataframe and display the first five rows.\n",
    "For **stock pandas, the dataframe is being stored as `pandas_df`** and for **Modin, the same dataframe is being stored as `modin_df`**.\n",
    "Let's try running the following cell with Pandas first."
   ]
  },
  {
   "cell_type": "code",
   "execution_count": 7,
   "metadata": {},
   "outputs": [
    {
     "name": "stdout",
     "output_type": "stream",
     "text": [
      "CPU times: user 1min 50s, sys: 4.7 s, total: 1min 55s\n",
      "Wall time: 1min 55s\n"
     ]
    }
   ],
   "source": [
    "%%time\n",
    "for i in range(10):\n",
    "    pandas_df = pandas.read_csv(\"foo.csv\", names=[\"col{}\".format(i) for i in range(256)])\n",
    "\n",
    "    pandas_df.head()"
   ]
  },
  {
   "cell_type": "markdown",
   "metadata": {},
   "source": [
    "Now let's run the same code, but use **Modin instead of stock Pandas.**\n",
    "\n",
    "**Note the speedup!**"
   ]
  },
  {
   "cell_type": "code",
   "execution_count": 8,
   "metadata": {},
   "outputs": [
    {
     "name": "stderr",
     "output_type": "stream",
     "text": [
      "2021-06-16 16:45:32,463\tINFO services.py:1274 -- View the Ray dashboard at \u001b[1m\u001b[32mhttp://127.0.0.1:8265\u001b[39m\u001b[22m\n"
     ]
    },
    {
     "data": {
      "text/plain": [
       "{'node_ip_address': '192.168.180.87',\n",
       " 'raylet_ip_address': '192.168.180.87',\n",
       " 'redis_address': '192.168.180.87:42727',\n",
       " 'object_store_address': '/tmp/ray/session_2021-06-16_16-45-31_229172_8967/sockets/plasma_store',\n",
       " 'raylet_socket_name': '/tmp/ray/session_2021-06-16_16-45-31_229172_8967/sockets/raylet',\n",
       " 'webui_url': '127.0.0.1:8265',\n",
       " 'session_dir': '/tmp/ray/session_2021-06-16_16-45-31_229172_8967',\n",
       " 'metrics_export_port': 61071,\n",
       " 'node_id': '6089c3c8d32dee41c10cdcc9c25f83fe8baf3a7b6ead64602ae571ac'}"
      ]
     },
     "execution_count": 8,
     "metadata": {},
     "output_type": "execute_result"
    }
   ],
   "source": [
    "import ray\n",
    "ray.init()"
   ]
  },
  {
   "cell_type": "code",
   "execution_count": 9,
   "metadata": {},
   "outputs": [
    {
     "name": "stdout",
     "output_type": "stream",
     "text": [
      "CPU times: user 6.17 s, sys: 9.96 s, total: 16.1 s\n",
      "Wall time: 28 s\n"
     ]
    },
    {
     "data": {
      "text/html": [
       "<div>\n",
       "<style scoped>\n",
       "    .dataframe tbody tr th:only-of-type {\n",
       "        vertical-align: middle;\n",
       "    }\n",
       "\n",
       "    .dataframe tbody tr th {\n",
       "        vertical-align: top;\n",
       "    }\n",
       "\n",
       "    .dataframe thead th {\n",
       "        text-align: right;\n",
       "    }\n",
       "</style>\n",
       "<table border=\"1\" class=\"dataframe\">\n",
       "  <thead>\n",
       "    <tr style=\"text-align: right;\">\n",
       "      <th></th>\n",
       "      <th>col0</th>\n",
       "      <th>col1</th>\n",
       "      <th>col2</th>\n",
       "      <th>col3</th>\n",
       "      <th>col4</th>\n",
       "      <th>col5</th>\n",
       "      <th>col6</th>\n",
       "      <th>col7</th>\n",
       "      <th>col8</th>\n",
       "      <th>col9</th>\n",
       "      <th>...</th>\n",
       "      <th>col246</th>\n",
       "      <th>col247</th>\n",
       "      <th>col248</th>\n",
       "      <th>col249</th>\n",
       "      <th>col250</th>\n",
       "      <th>col251</th>\n",
       "      <th>col252</th>\n",
       "      <th>col253</th>\n",
       "      <th>col254</th>\n",
       "      <th>col255</th>\n",
       "    </tr>\n",
       "  </thead>\n",
       "  <tbody>\n",
       "    <tr>\n",
       "      <th>0</th>\n",
       "      <td>4068.0</td>\n",
       "      <td>8808.0</td>\n",
       "      <td>4894.0</td>\n",
       "      <td>4925.0</td>\n",
       "      <td>5842.0</td>\n",
       "      <td>722.0</td>\n",
       "      <td>5087.0</td>\n",
       "      <td>7172.0</td>\n",
       "      <td>467.0</td>\n",
       "      <td>7242.0</td>\n",
       "      <td>...</td>\n",
       "      <td>6548.0</td>\n",
       "      <td>4643.0</td>\n",
       "      <td>9058.0</td>\n",
       "      <td>6611.0</td>\n",
       "      <td>342.0</td>\n",
       "      <td>1556.0</td>\n",
       "      <td>8405.0</td>\n",
       "      <td>6051.0</td>\n",
       "      <td>7088.0</td>\n",
       "      <td>5109.0</td>\n",
       "    </tr>\n",
       "    <tr>\n",
       "      <th>1</th>\n",
       "      <td>6752.0</td>\n",
       "      <td>9652.0</td>\n",
       "      <td>965.0</td>\n",
       "      <td>2561.0</td>\n",
       "      <td>5383.0</td>\n",
       "      <td>4483.0</td>\n",
       "      <td>4521.0</td>\n",
       "      <td>4815.0</td>\n",
       "      <td>7208.0</td>\n",
       "      <td>1533.0</td>\n",
       "      <td>...</td>\n",
       "      <td>966.0</td>\n",
       "      <td>5532.0</td>\n",
       "      <td>8372.0</td>\n",
       "      <td>3270.0</td>\n",
       "      <td>1764.0</td>\n",
       "      <td>5596.0</td>\n",
       "      <td>3427.0</td>\n",
       "      <td>9925.0</td>\n",
       "      <td>9134.0</td>\n",
       "      <td>3550.0</td>\n",
       "    </tr>\n",
       "    <tr>\n",
       "      <th>2</th>\n",
       "      <td>5744.0</td>\n",
       "      <td>5465.0</td>\n",
       "      <td>515.0</td>\n",
       "      <td>1149.0</td>\n",
       "      <td>8833.0</td>\n",
       "      <td>5546.0</td>\n",
       "      <td>8316.0</td>\n",
       "      <td>1818.0</td>\n",
       "      <td>3207.0</td>\n",
       "      <td>8936.0</td>\n",
       "      <td>...</td>\n",
       "      <td>8648.0</td>\n",
       "      <td>9204.0</td>\n",
       "      <td>6252.0</td>\n",
       "      <td>1010.0</td>\n",
       "      <td>7662.0</td>\n",
       "      <td>4781.0</td>\n",
       "      <td>9881.0</td>\n",
       "      <td>4948.0</td>\n",
       "      <td>9694.0</td>\n",
       "      <td>1366.0</td>\n",
       "    </tr>\n",
       "    <tr>\n",
       "      <th>3</th>\n",
       "      <td>5114.0</td>\n",
       "      <td>6279.0</td>\n",
       "      <td>4959.0</td>\n",
       "      <td>1327.0</td>\n",
       "      <td>1633.0</td>\n",
       "      <td>9836.0</td>\n",
       "      <td>6443.0</td>\n",
       "      <td>7534.0</td>\n",
       "      <td>7467.0</td>\n",
       "      <td>1911.0</td>\n",
       "      <td>...</td>\n",
       "      <td>9360.0</td>\n",
       "      <td>5262.0</td>\n",
       "      <td>5964.0</td>\n",
       "      <td>1841.0</td>\n",
       "      <td>6683.0</td>\n",
       "      <td>6336.0</td>\n",
       "      <td>2252.0</td>\n",
       "      <td>4073.0</td>\n",
       "      <td>6386.0</td>\n",
       "      <td>1108.0</td>\n",
       "    </tr>\n",
       "    <tr>\n",
       "      <th>4</th>\n",
       "      <td>4877.0</td>\n",
       "      <td>1947.0</td>\n",
       "      <td>2776.0</td>\n",
       "      <td>4447.0</td>\n",
       "      <td>9094.0</td>\n",
       "      <td>6878.0</td>\n",
       "      <td>9952.0</td>\n",
       "      <td>7397.0</td>\n",
       "      <td>5090.0</td>\n",
       "      <td>1312.0</td>\n",
       "      <td>...</td>\n",
       "      <td>1850.0</td>\n",
       "      <td>2000.0</td>\n",
       "      <td>843.0</td>\n",
       "      <td>7139.0</td>\n",
       "      <td>8241.0</td>\n",
       "      <td>9485.0</td>\n",
       "      <td>9090.0</td>\n",
       "      <td>972.0</td>\n",
       "      <td>9027.0</td>\n",
       "      <td>1795.0</td>\n",
       "    </tr>\n",
       "  </tbody>\n",
       "</table>\n",
       "<p>5 rows x 256 columns</p>\n",
       "</div>"
      ],
      "text/plain": [
       "     col0    col1    col2    col3    col4    col5    col6    col7    col8  \\\n",
       "0  4068.0  8808.0  4894.0  4925.0  5842.0   722.0  5087.0  7172.0   467.0   \n",
       "1  6752.0  9652.0   965.0  2561.0  5383.0  4483.0  4521.0  4815.0  7208.0   \n",
       "2  5744.0  5465.0   515.0  1149.0  8833.0  5546.0  8316.0  1818.0  3207.0   \n",
       "3  5114.0  6279.0  4959.0  1327.0  1633.0  9836.0  6443.0  7534.0  7467.0   \n",
       "4  4877.0  1947.0  2776.0  4447.0  9094.0  6878.0  9952.0  7397.0  5090.0   \n",
       "\n",
       "     col9  ...  col246  col247  col248  col249  col250  col251  col252  \\\n",
       "0  7242.0  ...  6548.0  4643.0  9058.0  6611.0   342.0  1556.0  8405.0   \n",
       "1  1533.0  ...   966.0  5532.0  8372.0  3270.0  1764.0  5596.0  3427.0   \n",
       "2  8936.0  ...  8648.0  9204.0  6252.0  1010.0  7662.0  4781.0  9881.0   \n",
       "3  1911.0  ...  9360.0  5262.0  5964.0  1841.0  6683.0  6336.0  2252.0   \n",
       "4  1312.0  ...  1850.0  2000.0   843.0  7139.0  8241.0  9485.0  9090.0   \n",
       "\n",
       "   col253  col254  col255  \n",
       "0  6051.0  7088.0  5109.0  \n",
       "1  9925.0  9134.0  3550.0  \n",
       "2  4948.0  9694.0  1366.0  \n",
       "3  4073.0  6386.0  1108.0  \n",
       "4   972.0  9027.0  1795.0  \n",
       "\n",
       "[5 rows x 256 columns]"
      ]
     },
     "execution_count": 9,
     "metadata": {},
     "output_type": "execute_result"
    }
   ],
   "source": [
    "%%time\n",
    "for i in range(10):\n",
    "    modin_df=pd.read_csv(\"foo.csv\", names=[\"col{}\".format(i) for i in range(256)])\n",
    "    #modin_df=pd.read_csv(\"foo.csv\", names=[\"col{}\".format(i) for i in range(256)])\n",
    "\n",
    "modin_df.head()"
   ]
  },
  {
   "cell_type": "markdown",
   "metadata": {},
   "source": [
    "Let's now **visualize** this speedup from Modin with a plot!"
   ]
  },
  {
   "cell_type": "code",
   "execution_count": null,
   "metadata": {},
   "outputs": [],
   "source": [
    "def plotter(outputdict):\n",
    "    fig = plt.figure(figsize = (10, 5)) \n",
    "    plt.bar(outputdict.keys(),outputdict.values(),color='blue',width=0.4)\n",
    "    plt.xlabel(\"Python Package\")\n",
    "    plt.ylabel(\"Runtime(seconds)\")\n",
    "    plt.show()"
   ]
  },
  {
   "cell_type": "code",
   "execution_count": null,
   "metadata": {
    "scrolled": true
   },
   "outputs": [],
   "source": [
    "t0 = time.time()\n",
    "pandas_df = pandas.read_csv(\"foo.csv\", names=[\"col{}\".format(i) for i in range(256)])\n",
    "pandas_time = time.time()- t0\n",
    "\n",
    "t1 = time.time()\n",
    "modin_df = pd.read_csv(\"foo.csv\", names=[\"col{}\".format(i) for i in range(256)])\n",
    "modin_time = time.time() - t1\n",
    "\n",
    "print(\"Pandas Time(seconds):\",pandas_time,\"\\nModin Time(seconds):\",modin_time)\n",
    "outputDict={\"Pandas\":pandas_time,\"Modin\":modin_time}\n",
    "plotter(outputDict)"
   ]
  },
  {
   "cell_type": "markdown",
   "metadata": {},
   "source": [
    "## Other DataFrame Function Performance Example\n",
    "We will now show the speedup in performance from Modin compared to stock Pandas with a few common functions.\n",
    "\n",
    "Like before, **`pandas_df` is for  stock Pandas**, **`modin_df` is for Modin**."
   ]
  },
  {
   "cell_type": "markdown",
   "metadata": {},
   "source": [
    "### `df.mean()`"
   ]
  },
  {
   "cell_type": "code",
   "execution_count": null,
   "metadata": {},
   "outputs": [],
   "source": [
    "# Mean\n",
    "t2 = time.time()\n",
    "pandas_df.mean(axis=0)\n",
    "pandas_time=time.time()- t2\n",
    "print(\" stock Pandas wall time for completion in seconds:\",pandas_time)"
   ]
  },
  {
   "cell_type": "code",
   "execution_count": null,
   "metadata": {
    "scrolled": true
   },
   "outputs": [],
   "source": [
    "# Mean\n",
    "t3 = time.time()\n",
    "modin_df.mean(axis=0)\n",
    "modin_time=time.time()- t3\n",
    "print(\"Modin wall time for completion in seconds:\",modin_time)"
   ]
  },
  {
   "cell_type": "code",
   "execution_count": null,
   "metadata": {
    "scrolled": true
   },
   "outputs": [],
   "source": [
    "print(\"Modin was {}X faster than stock Pandas!\".format(round(pandas_time/modin_time, 2)))"
   ]
  },
  {
   "cell_type": "markdown",
   "metadata": {},
   "source": [
    "### `df.applymap`"
   ]
  },
  {
   "cell_type": "code",
   "execution_count": null,
   "metadata": {
    "scrolled": true
   },
   "outputs": [],
   "source": [
    "# Long apply function\n",
    "t6 = time.time()\n",
    "print(pandas_df.applymap(lambda x: x + 1))\n",
    "pandas_time = time.time() - t6\n",
    "print(\" stock Pandas wall time for completion in seconds:\",pandas_time)"
   ]
  },
  {
   "cell_type": "code",
   "execution_count": null,
   "metadata": {
    "scrolled": true
   },
   "outputs": [],
   "source": [
    "# Long apply function\n",
    "t7 = time.time()\n",
    "print(modin_df.applymap(lambda x: x + 1))\n",
    "modin_time = time.time() - t7\n",
    "print(\"Modin wall time for completion in seconds:\",modin_time)"
   ]
  },
  {
   "cell_type": "code",
   "execution_count": null,
   "metadata": {
    "scrolled": true
   },
   "outputs": [],
   "source": [
    "print(\"Modin was {}X faster than stock Pandas!\".format(round(pandas_time/modin_time, 2)))"
   ]
  },
  {
   "cell_type": "markdown",
   "metadata": {},
   "source": [
    "### `pd.concat([df, df])`"
   ]
  },
  {
   "cell_type": "code",
   "execution_count": null,
   "metadata": {},
   "outputs": [],
   "source": [
    "# Concat\n",
    "t8 = time.time()\n",
    "print(pandas.concat([pandas_df, pandas_df], axis=0))\n",
    "pandas_time = time.time() - t8\n",
    "print(\"stock Pandas wall time for completion in seconds:\",pandas_time)"
   ]
  },
  {
   "cell_type": "code",
   "execution_count": null,
   "metadata": {},
   "outputs": [],
   "source": [
    "# Concat\n",
    "t9 = time.time()\n",
    "print(pd.concat([modin_df, modin_df], axis=0))\n",
    "modin_time = time.time() - t9\n",
    "print(\"Modin wall time for completion in seconds:\",modin_time)"
   ]
  },
  {
   "cell_type": "code",
   "execution_count": null,
   "metadata": {},
   "outputs": [],
   "source": [
    "print(\"Modin was {}X faster than stock Pandas!\".format(round(pandas_time/modin_time, 2)))"
   ]
  },
  {
   "cell_type": "markdown",
   "metadata": {},
   "source": [
    "## Modin Coverage Examples \n",
    "The Modin package supports a large variety of Pandas functions.\n",
    "Here are some examples:"
   ]
  },
  {
   "cell_type": "markdown",
   "metadata": {},
   "source": [
    "### Count"
   ]
  },
  {
   "cell_type": "code",
   "execution_count": null,
   "metadata": {},
   "outputs": [],
   "source": [
    "modin_df.count()"
   ]
  },
  {
   "cell_type": "markdown",
   "metadata": {},
   "source": [
    "### Filter"
   ]
  },
  {
   "cell_type": "code",
   "execution_count": null,
   "metadata": {},
   "outputs": [],
   "source": [
    "modin_df.filter(regex='0$', axis=1)"
   ]
  },
  {
   "cell_type": "markdown",
   "metadata": {},
   "source": [
    "### iloc"
   ]
  },
  {
   "cell_type": "code",
   "execution_count": null,
   "metadata": {},
   "outputs": [],
   "source": [
    "modin_df.iloc[0]\n",
    "modin_df.iloc[-1]\n",
    "modin_df.iloc[:,0]\n",
    "modin_df.iloc[:,-1]"
   ]
  },
  {
   "cell_type": "markdown",
   "metadata": {},
   "source": [
    "## Series"
   ]
  },
  {
   "cell_type": "code",
   "execution_count": null,
   "metadata": {},
   "outputs": [],
   "source": [
    "s = pd.Series(np.random.randn(5), index=['a', 'b', 'c', 'd', 'e'])"
   ]
  },
  {
   "cell_type": "markdown",
   "metadata": {},
   "source": [
    "### DataFrame to NumPy Array"
   ]
  },
  {
   "cell_type": "code",
   "execution_count": null,
   "metadata": {},
   "outputs": [],
   "source": [
    "modin_df.to_numpy()"
   ]
  },
  {
   "cell_type": "markdown",
   "metadata": {},
   "source": [
    "### Series to NumPy Array"
   ]
  },
  {
   "cell_type": "code",
   "execution_count": null,
   "metadata": {},
   "outputs": [],
   "source": [
    "ser = pd.Series(pd.date_range('2000', periods=2, tz=\"CET\"))\n",
    "ser.to_numpy(dtype=object)\n",
    "ser.to_numpy(dtype=\"datetime64[ns]\")"
   ]
  },
  {
   "cell_type": "markdown",
   "metadata": {},
   "source": [
    "### Set Options"
   ]
  },
  {
   "cell_type": "code",
   "execution_count": null,
   "metadata": {},
   "outputs": [],
   "source": [
    "pd.set_option('compute.use_bottleneck', False)\n",
    "pd.set_option('compute.use_numexpr', False)"
   ]
  },
  {
   "cell_type": "markdown",
   "metadata": {},
   "source": [
    "### Unique Function for Series"
   ]
  },
  {
   "cell_type": "code",
   "execution_count": null,
   "metadata": {},
   "outputs": [],
   "source": [
    "pd.unique(pd.Series([2, 1, 3, 3]))"
   ]
  },
  {
   "cell_type": "code",
   "execution_count": null,
   "metadata": {},
   "outputs": [],
   "source": [
    "print(\"[CODE_SAMPLE_COMPLETED_SUCCESFULLY]\")"
   ]
  },
  {
   "cell_type": "code",
   "execution_count": null,
   "metadata": {},
   "outputs": [],
   "source": []
  }
 ],
 "metadata": {
  "kernelspec": {
   "display_name": "Python 3",
   "language": "python",
   "name": "python3"
  },
  "language_info": {
   "codemirror_mode": {
    "name": "ipython",
    "version": 3
   },
   "file_extension": ".py",
   "mimetype": "text/x-python",
   "name": "python",
   "nbconvert_exporter": "python",
   "pygments_lexer": "ipython3",
   "version": "3.7.7"
  }
 },
 "nbformat": 4,
 "nbformat_minor": 4
}
